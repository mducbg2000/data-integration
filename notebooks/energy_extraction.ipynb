{
 "cells": [
  {
   "cell_type": "code",
   "execution_count": 1,
   "metadata": {},
   "outputs": [],
   "source": [
    "import pandas as pd\n",
    "import numpy as np\n",
    "import json"
   ]
  },
  {
   "cell_type": "code",
   "execution_count": 2,
   "metadata": {},
   "outputs": [],
   "source": [
    "raw_data = []\n",
    "# Load dữ liệu từ file txt\n",
    "try:\n",
    "    with open(\"../data/raw/INTL.txt\", \"r\", encoding=\"utf-8\") as file:\n",
    "        for line in file:\n",
    "            line = line.strip()\n",
    "            if line:\n",
    "                try:\n",
    "                    json_obj = json.loads(line)\n",
    "                    raw_data.append(json_obj)\n",
    "                except json.JSONDecodeError as e:\n",
    "                    print(e)\n",
    "except Exception as e:\n",
    "    print(e)\n"
   ]
  },
  {
   "cell_type": "code",
   "execution_count": 3,
   "metadata": {},
   "outputs": [],
   "source": [
    "df = pd.DataFrame(raw_data)"
   ]
  },
  {
   "cell_type": "code",
   "execution_count": 4,
   "metadata": {},
   "outputs": [],
   "source": [
    "# Lấy các hàng dữ liệu về tổng năng lượng tiêu thụ của các nuớc\n",
    "data = df[\n",
    "    df[\"name\"].str.contains(\"Total energy consumption\", regex=False)\n",
    "    & (df[\"units\"] == \"terajoules\")\n",
    "].reset_index(drop=True)\n"
   ]
  },
  {
   "cell_type": "code",
   "execution_count": 5,
   "metadata": {},
   "outputs": [],
   "source": [
    "# Lấy các cột cần thiết\n",
    "data = data.loc[:, [\"name\", \"geography\", \"data\"]]"
   ]
  },
  {
   "cell_type": "code",
   "execution_count": 6,
   "metadata": {},
   "outputs": [],
   "source": [
    "# Loại bỏ các hàng không có data\n",
    "data = data.dropna(subset=[\"data\"])"
   ]
  },
  {
   "cell_type": "code",
   "execution_count": 7,
   "metadata": {},
   "outputs": [],
   "source": [
    "# Extract tên country từ cột name\n",
    "data[\"name\"] = data[\"name\"].str.extract(r\"Total energy consumption, (.+?), Annual\")\n",
    "data = data.rename(columns={\"name\": \"country\"})"
   ]
  },
  {
   "cell_type": "code",
   "execution_count": 8,
   "metadata": {},
   "outputs": [],
   "source": [
    "# Loại bỏ dữ liệu trùng lặp theo country\n",
    "data = data.drop_duplicates(subset=\"country\", keep=\"last\")"
   ]
  },
  {
   "cell_type": "code",
   "execution_count": 9,
   "metadata": {},
   "outputs": [],
   "source": [
    "# tách mảng 2 chiều trong cột data thành nhiều hàng\n",
    "data = data.explode(\"data\").reset_index(drop=True)"
   ]
  },
  {
   "cell_type": "code",
   "execution_count": 10,
   "metadata": {},
   "outputs": [],
   "source": [
    "data[\"year\"] = data[\"data\"].str[0]\n",
    "data[\"data\"] = data[\"data\"].str[1]\n",
    "data = data.rename(columns={\"data\": \"value\"})"
   ]
  },
  {
   "cell_type": "code",
   "execution_count": 11,
   "metadata": {},
   "outputs": [
    {
     "name": "stderr",
     "output_type": "stream",
     "text": [
      "/tmp/ipykernel_22559/4094537107.py:1: FutureWarning: Downcasting behavior in `replace` is deprecated and will be removed in a future version. To retain the old behavior, explicitly call `result.infer_objects(copy=False)`. To opt-in to the future behavior, set `pd.set_option('future.no_silent_downcasting', True)`\n",
      "  data[\"value\"] = data[\"value\"].replace(\"--\", np.nan).astype(float)\n"
     ]
    }
   ],
   "source": [
    "data[\"value\"] = data[\"value\"].replace(\"--\", np.nan).astype(float)"
   ]
  }
 ],
 "metadata": {
  "kernelspec": {
   "display_name": ".venv",
   "language": "python",
   "name": "python3"
  },
  "language_info": {
   "codemirror_mode": {
    "name": "ipython",
    "version": 3
   },
   "file_extension": ".py",
   "mimetype": "text/x-python",
   "name": "python",
   "nbconvert_exporter": "python",
   "pygments_lexer": "ipython3",
   "version": "3.13.1"
  }
 },
 "nbformat": 4,
 "nbformat_minor": 2
}
